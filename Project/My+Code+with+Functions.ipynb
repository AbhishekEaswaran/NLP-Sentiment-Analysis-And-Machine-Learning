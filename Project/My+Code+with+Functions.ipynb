{
 "cells": [
  {
   "cell_type": "code",
   "execution_count": 1,
   "metadata": {
    "collapsed": true
   },
   "outputs": [],
   "source": [
    "#Writing the import statements\n",
    "import pandas as pd   \n",
    "from bs4 import BeautifulSoup\n",
    "import nltk\n",
    "from nltk.corpus import stopwords\n",
    "import re\n",
    "import json\n",
    "import enchant\n",
    "d = enchant.Dict(\"en_US\")\n",
    "from collections import Counter\n",
    "from nltk.stem import PorterStemmer, WordNetLemmatizer\n",
    "import numpy as np\n",
    "#This is used for stemming of words\n",
    "stemmer = PorterStemmer()\n",
    "\n",
    "\n",
    "import nltk\n",
    "nltk.download(\"stopwords\")"
   ]
  },
  {
   "cell_type": "code",
   "execution_count": 2,
   "metadata": {
    "collapsed": true
   },
   "outputs": [],
   "source": [
    "#Defining function for converting a raw review to a string of words \n",
    "\n",
    "def review_to_words(raw_review):\n",
    "    # Function to convert a raw review to a string of words\n",
    "    #\n",
    "    # 1. Remove HTML\n",
    "    print(\"Removing HTML\")\n",
    "    review_text = BeautifulSoup(raw_review,\"lxml\").get_text() \n",
    "    #\n",
    "    # 2. Remove non-letters\n",
    "    print(\"Removing Non-Letters\")\n",
    "    letters_only = re.sub(\"[^a-zA-Z]\", \" \", review_text) \n",
    "    #\n",
    "    # 3. Convert to lower case, split into individual words\n",
    "    print(\"Converting the words to Lower Case\")\n",
    "    words = letters_only.lower().split()                             \n",
    "    #\n",
    "    # 4. In Python, searching a set is much faster than searching\n",
    "    #   a list, so convert the stop words to a set\n",
    "    print(\"Converting the stopwords to a set\")\n",
    "    stops = set(stopwords.words(\"english\"))                  \n",
    "    # \n",
    "    # 5. Remove stop words\n",
    "    print(\"Removing the stopwords\")\n",
    "    meaningful_words = [w for w in words if not w in stops]   \n",
    "    #\n",
    "    #6.Remove Non-English words\n",
    "    print(\"Removing the non-English Words\")\n",
    "    meaningful_words_2 = [w for w in meaningful_words if d.check(w)]\n",
    "    print(\"Preprocessing of raw data is completed\")\n",
    "    #7.stemming\n",
    "    #meaningful_words_3=[stemmer.stem(w) for w in  meaningful_words_2]\n",
    "    # 8. Join the words back into one string separated by space, \n",
    "    # and return the result.\n",
    "    return( \" \".join( meaningful_words_2))"
   ]
  },
  {
   "cell_type": "code",
   "execution_count": 19,
   "metadata": {
    "collapsed": true
   },
   "outputs": [],
   "source": [
    "# Read the data from disk and split into lines\n",
    "# we use .strip() to remove the final (empty) line\n",
    "\n",
    "def readData():\n",
    "    print(\"Gathering Raw Data\")\n",
    "    with open(\"review_partial.json\",encoding=\"utf8\") as f:\n",
    "        reviews = f.read().strip().split(\"\\n\")\n",
    "    reviews = [json.loads(review) for review in reviews]\n",
    "    print(\"Gathered the Raw Data\")\n",
    "    return(reviews)\n",
    "    \n",
    "def getTextsAndStars(reviews):\n",
    "    print(\"Getting the Raw Text and the rating corresponding to the texts\")\n",
    "    texts = [review['text'] for review in reviews]\n",
    "    stars = [review['stars'] for review in reviews]\n",
    "    #Writing the texts and stars into a dataframe for later use\n",
    "    textsAndStars = pd.DataFrame(columns=['texts','stars'])\n",
    "    textsAndStars['texts'] = texts\n",
    "    textsAndStars['stars'] = stars\n",
    "    print(\"Obtained the raw text and ratings\")\n",
    "    return(textsAndStars)\n"
   ]
  },
  {
   "cell_type": "code",
   "execution_count": 20,
   "metadata": {},
   "outputs": [
    {
     "name": "stdout",
     "output_type": "stream",
     "text": [
      "Gathering Raw Data\n",
      "Gathered the Raw Data\n"
     ]
    }
   ],
   "source": [
    "reviews = readData()"
   ]
  },
  {
   "cell_type": "code",
   "execution_count": 38,
   "metadata": {},
   "outputs": [],
   "source": [
    "#reviews"
   ]
  },
  {
   "cell_type": "code",
   "execution_count": 22,
   "metadata": {},
   "outputs": [
    {
     "name": "stdout",
     "output_type": "stream",
     "text": [
      "Getting the Raw Text and the rating corresponding to the texts\n",
      "Obtained the raw text and ratings\n"
     ]
    }
   ],
   "source": [
    "textsAndStars = getTextsAndStars(reviews)"
   ]
  },
  {
   "cell_type": "code",
   "execution_count": 13,
   "metadata": {
    "collapsed": true
   },
   "outputs": [],
   "source": [
    "#Calling the readData function to obtain the texts and stars from the json file\n",
    "#textsAndStars = readData()\n",
    "texts = textsAndStars['texts']\n",
    "stars = textsAndStars['stars']"
   ]
  },
  {
   "cell_type": "code",
   "execution_count": 7,
   "metadata": {
    "collapsed": true
   },
   "outputs": [],
   "source": [
    "#Getting all reviews for the user with most reviews\n",
    "texts = [review['text'] for review in reviews if review['user_id'] == \"CxDOIDnH8gp9KXzpBHJYXw\"]\n",
    "#Getting all ratings for the user with most reviews\n",
    "stars = [review['stars'] for review in reviews if review['user_id'] == \"CxDOIDnH8gp9KXzpBHJYXw\"]"
   ]
  },
  {
   "cell_type": "code",
   "execution_count": 26,
   "metadata": {
    "collapsed": true
   },
   "outputs": [],
   "source": [
    "#Getting all reviews for certain businesses\n",
    "texts = [review['text'] for review in reviews if review['business_id'] == \"uYHaNptLzDLoV_JZ_MuzUA\"]\n",
    "#Getting all ratings for the user with most reviews\n",
    "stars = [review['stars'] for review in reviews if review['business_id'] == \"uYHaNptLzDLoV_JZ_MuzUA\"]"
   ]
  },
  {
   "cell_type": "code",
   "execution_count": 28,
   "metadata": {},
   "outputs": [
    {
     "data": {
      "text/plain": [
       "16"
      ]
     },
     "execution_count": 28,
     "metadata": {},
     "output_type": "execute_result"
    }
   ],
   "source": [
    "len(texts)"
   ]
  },
  {
   "cell_type": "code",
   "execution_count": 30,
   "metadata": {},
   "outputs": [
    {
     "data": {
      "text/plain": [
       "['My girlfriend and I stayed here for 3 nights and loved it. The location of this hotel and very decent price makes this an amazing deal. When you walk out the front door Scott Monument and Princes street are right in front of you, Edinburgh Castle and the Royal Mile is a 2 minute walk via a close right around the corner, and there are so many hidden gems nearby including Calton Hill and the newly opened Arches that made this location incredible.\\n\\nThe hotel itself was also very nice with a reasonably priced bar, very considerate staff, and small but comfortable rooms with excellent bathrooms and showers. Only two minor complaints are no telephones in room for room service (not a huge deal for us) and no AC in the room, but they have huge windows which can be fully opened. The staff were incredible though, letting us borrow umbrellas for the rain, giving us maps and directions, and also when we had lost our only UK adapter for charging our phones gave us a very fancy one for free.\\n\\nI would highly recommend this hotel to friends, and when I return to Edinburgh (which I most definitely will) I will be staying here without any hesitation.',\n",
       " \"If you need an inexpensive place to stay for a night or two then you may consider this place but for a longer stay I'd recommend somewhere with better amenities. \\n\\nPros:\\nGreat location- you're right by the train station, central location to get to old town and new town, and right by sight seeing his tours. Food, bars, and shopping all within walking distance. Location, location, location.\\nVery clean and very good maid service\\n\\nCons:\\nTiny rooms \\nUncomfortable bed \\nAbsolutely no amenities \\nNo phone in room \\nNo wardrobe \\n\\nWas given a lot of attitude about me and my husband sharing a room which was quite strange and we were charged 15 pounds more for double occupancy not sure why that matters I felt like it was a money grab. It was just handled in a kind of odd manner to me... \\n\\nIf you book this hotel all you get is a bed, desk, and a bathroom. It isn't awful but know what you're getting into.\",\n",
       " \"Mittlerweile gibt es in Edinburgh zwei Ableger der Motel-One-Kette - diese hier ist eher das schlechtere.\\n\\nWir hatten auf unserer Schottlandtour die Gelegenheit beide Ableger kennenzulernen, da wir beide Nächte in Edinburgh (am ersten sowie am letzten Tag) in einem der beiden Motel One's verbrachten. Von diesem hier waren wir nach dem überraschend positiven Erlebnis im Motel One an der Princes Street [1] etwas enttäuscht.\\n\\nDas Hotel ist wesentlich größer und extrem unübersichtlich. Da man auf der fünften Etage noch Teile eines weiteren Gebäude, das mittels einer Glasbrücke mit dem Hauptgebäude verbunden ist, hinzugenommen hat, kann die Suche nach dem Zimmer insbesondere auf dieser Etage zu einem Gang im Labyrinth ausarten. Habe ich so noch in keinem Hotel erlebt - uns begegneten immer wieder Menschen, die sich auf der Suche nach ihren Zimmern verirrt haben.\\nUnser Zimmer war ähnlich aufgebaut wie das Zimmer im Motel One Princes Street - befand sich jedoch im Inneren des Gebäudes und hatte daher kein Fenster. Nur eine kleine Dachluke, die sich am oberen Ende eines etwa 3m langen Schachts befand, sorgte für einen minimalen Anteil Tageslicht im Zimmer. diese Luke ließ sich auch nicht öffnen, nur ein elektrisches Rollo ließ sich mittels eines Schalters öffnen bzw. schließen.\\nSonst gilt für das Zimmer eigentlich das Gleiche wie für das Zimmer im im Motel One Princes Street: Relativ klein, trotzdem extrem ansprechend und schick gestaltet und clever durchdacht. Dazu sehr ruhig.\\n\\nIm gesamten Hotel gibt es kostenloses WLAN für die Dauer des Aufenthalts für maximal 3 Geräte.\\n\\nDie Lage des Motel One Royal Mile ist großartig. Vom Airlink-Flughafenbus kann man quasi in den Hoteleingang stolpern, es sind maximal 50m. Zur Royal Mile sind es etwa 100m Luftlinie (bergauf) und man benötigt etwa 5 Minuten bis dort.\\n\\nDas Frühstück für 9,50 GBP / Person kann man nutzen - muss man aber nicht. Es ist eher übersichtlich und kontinetaler Prägung, trotzdem aber sehr gut. Für den gleichen Preis oder weniger bekommt man aber problemlos ein reichhaltiges Frühstück in einem der zahlreichen Cafes von Edinburgh.\\n\\nFür ein oder zwei Nächte kann man hier problemlos bleiben, sollte aber nicht allzuviel erwarten. Hat man die Wahl, sollte man meiner Erfahrung nach lieber auf das andere Motel One an der Princes Street ausweichen. \\n\\n\\n----\\n[1] http://www.yelp.de/biz/motel-one-edinburgh-2?hrid=7UDwl3s_DuOokkGPZXZgBw\",\n",
       " \"Location is everything and this hotel has it! The reception is inviting and open 24 hours. They are very helpful and have a lot of patience answering all my questions about where to go etc. there is also a lounge open 24 hours with snack-type food. Breakfast is continental-style so if you want heartier fare look elsewhere though you don't have to go far. The bus and train stations are right across the street so it's easy access to the airport or anywhere else you may want to go. Turn uphill to old town or cross the bridge to new town. The room with a view i got was spacious and comfortable though it's a bit of a maze to find it-just follow the signs. The windows are double paned so the room is quiet plus i was on the 5th floor which helps. It's a bit pricey but still one of the best values i found!\",\n",
       " 'gute lage im stadtzentrum. shoppingmeile und sehenswürdigkeiten, sowie gute pubs in laufweite. das hotel ist neu, gut gepflegt und hat bemühtes/nettes personal. ideal für einen kurztrip nach edinburgh. längere aufenthalte eher nicht, da die zimmer recht klein sind.',\n",
       " 'Erstklassige Lage. Dazu ist alles geschrieben  worden.\\nWir hatten Zimmer 718 mit Blick auf den Bahnhof. Ist zwar zu laut mit offenen Fenster nachts, aber der Ausblick verzeiht alles. Das Personal ist sehr freundlich und super hilfsbereit. Wer Edinburgh zu Fuß erkunden möchte, ist hier perfekt aufgehoben.',\n",
       " 'Beautiful space, great location, staff rock. Tiny room, but this was expected. Bathroom amazing. Walls, however, paper thin, which is why I can barely string a sentence together in this review.',\n",
       " \"This is a fairly new property I think. It is a German company and has most of the amenities you would want. It is priced on the budget minded side so it won't break your bank.\\nLocation is really good. Near the Royal Mile and Waverley station without being too noisy. Very easy to walk to everything we wanted to do. Has WiFi but we did have to re-log in every day.\",\n",
       " 'First time at this group of hotels. Pretty new, only one in UK, another to open in Edinburgh and one in London. Rooms not very big but great price and location for a weekend in Edinburgh. Rooms clean, comfortable, good shower and free wifi!',\n",
       " \"Location location location! \\n\\nMotel One is just right in the middle of everything. To one side you have the New town and the main trains station ( and right in front of the airport bus)  and on the other side the beautiful old town of Edinburg. \\n\\nThe room was small but clean and with all you need. \\nThe bathroom was also small but nice and clean and the shower was big and good! Next to the bed there is a European plug (CC 7/7) so we actually didn't need to use our adapter. \\n\\nThe beed was to hard for my back and I prefer the bed more soft, but I will still come back to Edinburgh and Motel One.\",\n",
       " \"A hotel that has all the basics that you'd need - no additional fuss. For the price we paid, I'd say this place is actually pretty good value. The location is super central and it's easy to get to everywhere from here! It's also right next to the airport shuttle bus and train station, so transport is also easy. \\n\\nThe insides is a bit of a maze depending on where your room is located - you may have to go down to go up to go back down again to get to your room! But no bother, it's good for walking off the chips and sobering from your drinks.\",\n",
       " \"Stayed here for two nights, costs was £109 per night for two people sharing a room which was not a budget price for what felt like budget rooms. Firstly they don't have any twin rooms in the hotel which would be preferable when I was sharing with a friend not my lover! There is only one small bin which is located in the bathroom.  No soap, which I find ridiculous, only toiletries were a dual shower gel/hair wash. There was a hairdryer but no wardrobes or drawers. Room was also very cold. \\n\\nNow for the positive, the location is very good, close to princes street and St. Andrews square. The staff are very helpful and the bar is 24 hours. \\n\\nDon't bother with the breakfast which is £9.50 each for a continental breakfast where you can easily get a cooked breakfast in any one of the cafes in Cockburn Street, which is adjacent to this hotel. \\n\\nIf I go to Edinburgh again I will book a different hotel.\",\n",
       " \"Well, i like the idea of Motel One. Always in the center of the city, somehow modern design, good beds. No fancy unnecessary stuff. All of this is true for this motel one in Edinburgh. Perfectly located even if it's hard to discover. \\nBreakfast is ok, but not more. \\nService is friendly. \\nNo twin rooms available..\",\n",
       " \"I really do love the Germans. This chain is spreading fast over there and they're bringing their efficiency and attention to detail with them here. \\n\\nMotel One is, as the name suggests, aimed at the budget market. Rates for this venue range from approximately £69/night up. I booked ahead and appreciated the completely free reservation process with room guaranteed until 6pm on the day of arrival. If you give your credit card details, it's reserved beyond that time.\\n\\nLocation is excellent! If you exit from the Market St side of Waverly and turn right it's maybe 3 minutes away. It would be very hard to have it closer. That also makes it very close to the castle and Princes St. Welcome was warm and check-in easy. The lobby area is pretty small but clean and cosy with sweets, maps etc. There's a bar area down a few steps where they also serve the buffet breakfast each morning.\\n\\nMy room was the cheapest version and was internal, facing onto a courtyard. It had no view and was quite dark, but quiet. Everything was completely spotless. The bathroom was small but well designed and had a great shower. Bed was comfy with 2 single duvets. So continental, don't you know? I appreciated the tea and coffee making facilities (I'm like a beast without them), the decent sized TV and the free wifi. The hanging storage facilities are limited but it was fine for a few days. \\n\\nRandom: hands down the best hotel hairdryer I have ever used. And one of the best dryers in general-called a Black Mambo. It was worth staying there for that alone. Well, you know, also the really good value and the pristine conditions. But definitely the hairdryer.\",\n",
       " \"Motel One sets the standard for budget hotels. I stayed at the Dusseldorf branch a while ago so when I saw one in Edinburgh, I knew this was the place to book. We managed to get a reservation during the Edinburgh Fringe Festival and only booked a few weeks before. We did pay a premium over the normal rate but given the crowds in the city during this time, it was still a good deal compared to other hotels.\\n\\nStaff were all friendly and welcoming, presentable and professional.\\nWe received a room upgrade with quite a large room overlooking the bridge crossing Waverley station to Princes St. Despite overlooking a busy road, the room was almost silent thanks to solid double glazing. The room temperature was perfectly controlled with an individual A/C unit. Super clean, modern, uncluttered. Bathroom was similar. No slamming doors or noise in the night. Bonus.\\n\\nFree wifi that works with one log in (doesn't require repeated log ins as some places do) and had decent signal strength.\\n\\nThe buffet continental breakfast was also a hit with fresh croissants, danishes, cold cuts, cheese, toast, fruit and yoghurt all well presented, fresh and good quality as was the coffee.\\n\\nIf I am looking for a reasonable hotel in a city, Motel One will be by first choice.\",\n",
       " \"Had Continental style breakfast here a short distance from Waverley Station as I had half hour before a train home and wanted to try somewhere new. Motel1One is nearby and a easy two minute walk, slightly uphill towards the castle from the station. \\n\\nOn entry it's modern, cosy has tons of cool yet bright pastel and mochilato colours to accommodate your cold wintertime self. Wooden floors, warm rugs, sheepskins on the sofas, slate walls and oak barrelled tables, with slight distinct Scottish themes due to their tartan furnished accessories completes the feel.\\n\\nI sat in One Lounge, had tea and food self served for well under £10, you know bran, meats cheese and croissant that sort of stuff. With a copy of local newspaper in hand I really needed to eat, stay warm and access wifi, the reasons I came in.\\n\\nSome hotels in the city give you access to wifi if your a paying guest, but repeated attempts to access their wifi even with staff help, eventually gave access but in German. On going to reception again for additional help the staff were great got the correct website for me, but still no luck.\\n\\nHmmm, by the time this was all done I came back to cold tea and didn't really have time now to finish a second cup of hot Earl Grey, so sorry to staff for removing an almost full cup of tea. Great place though nice breakfast and funky decor especially the plasma tv displaying a roasting log fire in reception, but sadly for me no easy access to wifi when badly required.\\n\\nMaybe next time I will endeavour to try food against technology!\"]"
      ]
     },
     "execution_count": 30,
     "metadata": {},
     "output_type": "execute_result"
    }
   ],
   "source": [
    "#texts"
   ]
  },
  {
   "cell_type": "code",
   "execution_count": 31,
   "metadata": {
    "collapsed": true
   },
   "outputs": [],
   "source": [
    "#removing stopwords, special characters\n",
    "def clean_Reviews():\n",
    "    print(\"Preparing to clean reviews\")\n",
    "    clean_reviews = []\n",
    "    for i in range(len(texts)):\n",
    "        # If the index is evenly divisible by 1000, print a message showing how many reviews have been cleaned\n",
    "        if( (i+1)%5000 == 0 ):\n",
    "            print (\"Review %d of %d\\n\" % ( i+1, num_reviews ))                                                                    \n",
    "        clean_reviews.append( review_to_words( texts[i]))\n",
    "        print(\"Cleaned Reviews obtained\")\n",
    "    return(clean_reviews)"
   ]
  },
  {
   "cell_type": "code",
   "execution_count": 34,
   "metadata": {},
   "outputs": [
    {
     "name": "stdout",
     "output_type": "stream",
     "text": [
      "Preparing to clean reviews\n",
      "Removing HTML\n",
      "Removing Non-Letters\n",
      "Converting the words to Lower Case\n",
      "Converting the stopwords to a set\n",
      "Removing the stopwords\n",
      "Removing the non-English Words\n",
      "Preprocessing of raw data is completed\n",
      "Cleaned Reviews obtained\n",
      "Removing HTML\n",
      "Removing Non-Letters\n",
      "Converting the words to Lower Case\n",
      "Converting the stopwords to a set\n",
      "Removing the stopwords\n",
      "Removing the non-English Words\n",
      "Preprocessing of raw data is completed\n",
      "Cleaned Reviews obtained\n",
      "Removing HTML\n",
      "Removing Non-Letters\n",
      "Converting the words to Lower Case\n",
      "Converting the stopwords to a set\n",
      "Removing the stopwords\n",
      "Removing the non-English Words\n",
      "Preprocessing of raw data is completed\n",
      "Cleaned Reviews obtained\n",
      "Removing HTML\n",
      "Removing Non-Letters\n",
      "Converting the words to Lower Case\n",
      "Converting the stopwords to a set\n",
      "Removing the stopwords\n",
      "Removing the non-English Words\n",
      "Preprocessing of raw data is completed\n",
      "Cleaned Reviews obtained\n",
      "Removing HTML\n",
      "Removing Non-Letters\n",
      "Converting the words to Lower Case\n",
      "Converting the stopwords to a set\n",
      "Removing the stopwords\n",
      "Removing the non-English Words\n",
      "Preprocessing of raw data is completed\n",
      "Cleaned Reviews obtained\n",
      "Removing HTML\n",
      "Removing Non-Letters\n",
      "Converting the words to Lower Case\n",
      "Converting the stopwords to a set\n",
      "Removing the stopwords\n",
      "Removing the non-English Words\n",
      "Preprocessing of raw data is completed\n",
      "Cleaned Reviews obtained\n",
      "Removing HTML\n",
      "Removing Non-Letters\n",
      "Converting the words to Lower Case\n",
      "Converting the stopwords to a set\n",
      "Removing the stopwords\n",
      "Removing the non-English Words\n",
      "Preprocessing of raw data is completed\n",
      "Cleaned Reviews obtained\n",
      "Removing HTML\n",
      "Removing Non-Letters\n",
      "Converting the words to Lower Case\n",
      "Converting the stopwords to a set\n",
      "Removing the stopwords\n",
      "Removing the non-English Words\n",
      "Preprocessing of raw data is completed\n",
      "Cleaned Reviews obtained\n",
      "Removing HTML\n",
      "Removing Non-Letters\n",
      "Converting the words to Lower Case\n",
      "Converting the stopwords to a set\n",
      "Removing the stopwords\n",
      "Removing the non-English Words\n",
      "Preprocessing of raw data is completed\n",
      "Cleaned Reviews obtained\n",
      "Removing HTML\n",
      "Removing Non-Letters\n",
      "Converting the words to Lower Case\n",
      "Converting the stopwords to a set\n",
      "Removing the stopwords\n",
      "Removing the non-English Words\n",
      "Preprocessing of raw data is completed\n",
      "Cleaned Reviews obtained\n",
      "Removing HTML\n",
      "Removing Non-Letters\n",
      "Converting the words to Lower Case\n",
      "Converting the stopwords to a set\n",
      "Removing the stopwords\n",
      "Removing the non-English Words\n",
      "Preprocessing of raw data is completed\n",
      "Cleaned Reviews obtained\n",
      "Removing HTML\n",
      "Removing Non-Letters\n",
      "Converting the words to Lower Case\n",
      "Converting the stopwords to a set\n",
      "Removing the stopwords\n",
      "Removing the non-English Words\n",
      "Preprocessing of raw data is completed\n",
      "Cleaned Reviews obtained\n",
      "Removing HTML\n",
      "Removing Non-Letters\n",
      "Converting the words to Lower Case\n",
      "Converting the stopwords to a set\n",
      "Removing the stopwords\n",
      "Removing the non-English Words\n",
      "Preprocessing of raw data is completed\n",
      "Cleaned Reviews obtained\n",
      "Removing HTML\n",
      "Removing Non-Letters\n",
      "Converting the words to Lower Case\n",
      "Converting the stopwords to a set\n",
      "Removing the stopwords\n",
      "Removing the non-English Words\n",
      "Preprocessing of raw data is completed\n",
      "Cleaned Reviews obtained\n",
      "Removing HTML\n",
      "Removing Non-Letters\n",
      "Converting the words to Lower Case\n",
      "Converting the stopwords to a set\n",
      "Removing the stopwords\n",
      "Removing the non-English Words\n",
      "Preprocessing of raw data is completed\n",
      "Cleaned Reviews obtained\n",
      "Removing HTML\n",
      "Removing Non-Letters\n",
      "Converting the words to Lower Case\n",
      "Converting the stopwords to a set\n",
      "Removing the stopwords\n",
      "Removing the non-English Words\n",
      "Preprocessing of raw data is completed\n",
      "Cleaned Reviews obtained\n"
     ]
    }
   ],
   "source": [
    "clean_reviews = []\n",
    "clean_reviews = clean_Reviews()"
   ]
  },
  {
   "cell_type": "code",
   "execution_count": 37,
   "metadata": {},
   "outputs": [
    {
     "data": {
      "text/plain": [
       "'girlfriend stayed nights loved location hotel decent price makes amazing deal walk front door monument princes street right front castle royal mile minute walk via close right around corner many hidden gems nearby including hill newly opened arches made location incredible hotel also nice reasonably priced bar considerate staff small comfortable rooms excellent bathrooms showers two minor complaints telephones room room service huge deal us ac room huge windows fully opened staff incredible though letting us borrow umbrellas rain giving us maps directions also lost adapter charging phones gave us fancy one free would highly recommend hotel friends return definitely staying without hesitation'"
      ]
     },
     "execution_count": 37,
     "metadata": {},
     "output_type": "execute_result"
    }
   ],
   "source": [
    "#Checking the pre-processed text\n",
    "clean_reviews[0]"
   ]
  },
  {
   "cell_type": "code",
   "execution_count": 33,
   "metadata": {},
   "outputs": [
    {
     "name": "stdout",
     "output_type": "stream",
     "text": [
      "[nltk_data] Downloading package stopwords to\n",
      "[nltk_data]     /home/abhishek/nltk_data...\n",
      "[nltk_data]   Unzipping corpora/stopwords.zip.\n"
     ]
    },
    {
     "data": {
      "text/plain": [
       "True"
      ]
     },
     "execution_count": 33,
     "metadata": {},
     "output_type": "execute_result"
    }
   ],
   "source": []
  },
  {
   "cell_type": "code",
   "execution_count": 11,
   "metadata": {
    "collapsed": true
   },
   "outputs": [],
   "source": [
    "from sklearn.feature_extraction.text import CountVectorizer\n",
    "\n",
    "def create_Vectorizer():\n",
    "    # Initialize the \"CountVectorizer\" object, which is scikit-learn's\n",
    "    # bag of words tool.\n",
    "    print (\"Creating the bag of words...\\n\")\n",
    "\n",
    "    vectorizer = CountVectorizer(analyzer = \"word\", tokenizer = None, preprocessor = None, stop_words = None, \n",
    "                                 max_features = 20000) \n",
    "\n",
    "\n",
    "    # fit_transform() does two functions: First, it fits the model\n",
    "    # and learns the vocabulary; second, it transforms our training data\n",
    "    # into feature vectors. The input to fit_transform should be a list of \n",
    "    # strings.\n",
    "    data_features = vectorizer.fit_transform(clean_reviews)\n",
    "\n",
    "    data_features = data_features.toarray()\n",
    "    print(\"Created the bag of words\")\n",
    "\n",
    "    # Take a look at the words in the vocabulary\n",
    "    vocab = vectorizer.get_feature_names()\n",
    "\n",
    "    # # Sum up the counts of each vocabulary word\n",
    "    dist = np.sum(data_features, axis=0)\n",
    "\n",
    "    #The below code obtains the low frequency words\n",
    "    threshold_count=2\n",
    "    low_freq_words=[]\n",
    "    \n",
    "    # #for tag, count in zip(vocab, dist):\n",
    "    low_freq_words=[tag  for tag, count in zip(vocab, dist) if(count<threshold_count)]\n",
    "    \n",
    "    return(data_features)"
   ]
  },
  {
   "cell_type": "code",
   "execution_count": 12,
   "metadata": {},
   "outputs": [
    {
     "name": "stdout",
     "output_type": "stream",
     "text": [
      "Creating the bag of words...\n",
      "\n",
      "Created the bag of words\n"
     ]
    }
   ],
   "source": [
    "data_features = create_Vectorizer()"
   ]
  },
  {
   "cell_type": "code",
   "execution_count": 13,
   "metadata": {
    "collapsed": true
   },
   "outputs": [],
   "source": [
    "#Getting User ID for users\n",
    "\n",
    "def getUsersAndCounts():\n",
    "    print(\"Obtaining a collection of users and number of reviews in order to obtain top users\")\n",
    "    userIds = [review['user_id'] for review in reviews]\n",
    "    from collections import Counter\n",
    "    userCounts = Counter(userIds)\n",
    "    #userCounts.most_common()"
   ]
  },
  {
   "cell_type": "code",
   "execution_count": 14,
   "metadata": {
    "collapsed": true
   },
   "outputs": [],
   "source": [
    "getUsersAndCounts()"
   ]
  },
  {
   "cell_type": "code",
   "execution_count": 15,
   "metadata": {
    "collapsed": true
   },
   "outputs": [],
   "source": [
    "from sklearn.feature_extraction.text import TfidfVectorizer\n",
    "def tfidf_vectorizer(): \n",
    "    print(\"Preparing to vectorize the text using tf-idf\")\n",
    "    # This vectorizer breaks text into single words and bi-grams and then calculates the TF-IDF representation\n",
    "    vectorizer = TfidfVectorizer(ngram_range=(1,2))\n",
    "    # the 'fit' builds up the vocabulary from all the reviews while the 'transform' step turns each indivdual text into\n",
    "    # a matrix of numbers.\n",
    "    vectors = vectorizer.fit_transform(clean_reviews)\n",
    "    print(\"Completed tf-idf vectorization of text data\")\n",
    "    return(vectors)"
   ]
  },
  {
   "cell_type": "code",
   "execution_count": 16,
   "metadata": {
    "collapsed": true
   },
   "outputs": [],
   "source": [
    "vectors = tfidf_vectorizer()"
   ]
  },
  {
   "cell_type": "code",
   "execution_count": 17,
   "metadata": {
    "collapsed": true
   },
   "outputs": [],
   "source": [
    "#Cross Validation import\n",
    "from sklearn.model_selection import cross_val_score"
   ]
  },
  {
   "cell_type": "code",
   "execution_count": 18,
   "metadata": {
    "collapsed": true
   },
   "outputs": [],
   "source": [
    "def gaussian_Naive_Bayes():    \n",
    "    from sklearn.naive_bayes import GaussianNB\n",
    "    clf = GaussianNB()\n",
    "    print(\"Running Gaussian Naive Bayes\")\n",
    "    clf.fit(vectors.toarray(), stars)\n",
    "    scores = cross_val_score(clf, vectors.toarray(), stars, cv=5)\n",
    "    print(\"Getting Scores\")\n",
    "    print(scores)\n",
    "    print(\"Accuracy: %0.2f (+/- %0.2f)\" % (scores.mean(), scores.std() * 2))"
   ]
  },
  {
   "cell_type": "code",
   "execution_count": 19,
   "metadata": {},
   "outputs": [
    {
     "name": "stdout",
     "output_type": "stream",
     "text": [
      "Running Gaussian Naive Bayes\n",
      "Getting Scores\n",
      "[ 0.55797101  0.53768116  0.54571843  0.56768559  0.55247813]\n",
      "Accuracy: 0.55 (+/- 0.02)\n"
     ]
    }
   ],
   "source": [
    "gaussian_Naive_Bayes()"
   ]
  },
  {
   "cell_type": "code",
   "execution_count": 20,
   "metadata": {
    "collapsed": true
   },
   "outputs": [],
   "source": [
    "def linear_SVM():\n",
    "    from sklearn.svm import LinearSVC\n",
    "    classifier = LinearSVC()\n",
    "    print(\"Running Linear SVM Classifier\")\n",
    "    classifier.fit(vectors.toarray(), stars)\n",
    "    scores = cross_val_score(classifier, vectors.toarray(), stars, cv=5)\n",
    "    print(\"Getting Scores\")\n",
    "    print(scores)\n",
    "    print(\"Accuracy: %0.2f (+/- %0.2f)\" % (scores.mean(), scores.std() * 2))"
   ]
  },
  {
   "cell_type": "code",
   "execution_count": 21,
   "metadata": {},
   "outputs": [
    {
     "name": "stdout",
     "output_type": "stream",
     "text": [
      "Getting Scores\n",
      "[ 0.61449275  0.61884058  0.61248186  0.61426492  0.62244898]\n",
      "Accuracy: 0.62 (+/- 0.01)\n"
     ]
    }
   ],
   "source": [
    "linear_SVM()"
   ]
  },
  {
   "cell_type": "code",
   "execution_count": null,
   "metadata": {
    "collapsed": true
   },
   "outputs": [],
   "source": [
    "def support_Vector_Machine():\n",
    "    from sklearn.svm import SVC\n",
    "    classifierSVC = SVC(C=0.5,gamma=0.5)\n",
    "    print(\"Running Support Vector Machine Classifier\")\n",
    "    classifierSVC.fit(vectors.toarray(), stars)\n",
    "    scores = cross_val_score(classifierSVC, vectors.toarray(), stars, cv=5)\n",
    "    print(\"Getting Scores\")\n",
    "    print(scores)\n",
    "    print(\"Accuracy: %0.2f (+/- %0.2f)\" % (scores.mean(), scores.std() * 2))"
   ]
  },
  {
   "cell_type": "code",
   "execution_count": null,
   "metadata": {
    "collapsed": true
   },
   "outputs": [],
   "source": [
    "support_Vector_Machine()"
   ]
  },
  {
   "cell_type": "code",
   "execution_count": 22,
   "metadata": {
    "collapsed": true
   },
   "outputs": [],
   "source": [
    "def random_Forest_Classifier():\n",
    "    from sklearn.ensemble import RandomForestClassifier\n",
    "    classifierRF = RandomForestClassifier()\n",
    "    print(\"Running Random Forest Classifier\")\n",
    "    classifierRF.fit(vectors.toarray(), stars)\n",
    "    scores = cross_val_score(classifierRF, vectors.toarray(), stars, cv=5)\n",
    "    print(\"Getting Scores\")\n",
    "    print(scores)\n",
    "    print(\"Accuracy: %0.2f (+/- %0.2f)\" % (scores.mean(), scores.std() * 2))"
   ]
  },
  {
   "cell_type": "code",
   "execution_count": 23,
   "metadata": {},
   "outputs": [
    {
     "name": "stdout",
     "output_type": "stream",
     "text": [
      "Getting Scores\n",
      "[ 0.54637681  0.53913043  0.55152395  0.55167394  0.55393586]\n",
      "Accuracy: 0.55 (+/- 0.01)\n"
     ]
    }
   ],
   "source": [
    "random_Forest_Classifier()"
   ]
  },
  {
   "cell_type": "code",
   "execution_count": 39,
   "metadata": {
    "collapsed": true
   },
   "outputs": [],
   "source": [
    "def tune_linear_svm():\n",
    "    from sklearn.grid_search import GridSearchCV\n",
    "    from sklearn.svm import LinearSVC\n",
    "    print(\"Obtaining best hyper-parameters for Linear SVM Classifier\")\n",
    "    grid={\"C\": [0.05,0.5,1,1.5,2,5,10], \"loss\": [\"hinge\", \"squared_hinge\"], \"class_weight\": [None,\"balanced\"]}\n",
    "\n",
    "    train_X = vectors.toarray()\n",
    "    train_y = stars\n",
    "\n",
    "    clf = GridSearchCV(LinearSVC(), grid, cv=3).fit(train_X, train_y)\n",
    "\n",
    "    print(clf.best_params_)\n",
    "    print(str(clf.best_score_))\n",
    "    #print(\"\")\n",
    "\n",
    "    return clf"
   ]
  },
  {
   "cell_type": "code",
   "execution_count": 38,
   "metadata": {},
   "outputs": [
    {
     "name": "stdout",
     "output_type": "stream",
     "text": [
      "{'C': 2, 'class_weight': 'balanced', 'loss': 'squared_hinge'}\n",
      "0.6202789076118536\n",
      "\n"
     ]
    },
    {
     "data": {
      "text/plain": [
       "GridSearchCV(cv=3, error_score='raise',\n",
       "       estimator=LinearSVC(C=1.0, class_weight=None, dual=True, fit_intercept=True,\n",
       "     intercept_scaling=1, loss='squared_hinge', max_iter=1000,\n",
       "     multi_class='ovr', penalty='l2', random_state=None, tol=0.0001,\n",
       "     verbose=0),\n",
       "       fit_params={}, iid=True, n_jobs=1,\n",
       "       param_grid={'C': [0.05, 0.5, 1, 1.5, 2, 5, 10], 'loss': ['hinge', 'squared_hinge'], 'class_weight': [None, 'balanced']},\n",
       "       pre_dispatch='2*n_jobs', refit=True, scoring=None, verbose=0)"
      ]
     },
     "execution_count": 38,
     "metadata": {},
     "output_type": "execute_result"
    }
   ],
   "source": [
    "tune_linear_svm()"
   ]
  },
  {
   "cell_type": "code",
   "execution_count": 40,
   "metadata": {
    "collapsed": true
   },
   "outputs": [],
   "source": [
    "def logistic_Regression():\n",
    "    from sklearn.linear_model import LogisticRegression\n",
    "    model = LogisticRegression() \n",
    "    model.fit(vectors.toarray(), stars)\n",
    "    scores = cross_val_score(model, vectors.toarray(), stars, cv=5)\n",
    "    print(\"Getting Scores\")\n",
    "    print(scores)\n",
    "    print(\"Accuracy: %0.2f (+/- %0.2f)\" % (scores.mean(), scores.std() * 2))"
   ]
  },
  {
   "cell_type": "code",
   "execution_count": 41,
   "metadata": {},
   "outputs": [
    {
     "name": "stdout",
     "output_type": "stream",
     "text": [
      "Getting Scores\n",
      "[ 0.56811594  0.56376812  0.57329463  0.56914119  0.57725948]\n",
      "Accuracy: 0.57 (+/- 0.01)\n"
     ]
    }
   ],
   "source": [
    "logistic_Regression()"
   ]
  },
  {
   "cell_type": "code",
   "execution_count": null,
   "metadata": {
    "collapsed": true
   },
   "outputs": [],
   "source": [
    "reviews = readData()\n",
    "textsAndStars = getTextsAndStars(reviews)"
   ]
  }
 ],
 "metadata": {
  "kernelspec": {
   "display_name": "Python 3",
   "language": "python",
   "name": "python3"
  },
  "language_info": {
   "codemirror_mode": {
    "name": "ipython",
    "version": 3
   },
   "file_extension": ".py",
   "mimetype": "text/x-python",
   "name": "python",
   "nbconvert_exporter": "python",
   "pygments_lexer": "ipython3",
   "version": "3.6.1"
  }
 },
 "nbformat": 4,
 "nbformat_minor": 2
}
