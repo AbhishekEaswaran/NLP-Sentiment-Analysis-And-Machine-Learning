{
 "cells": [
  {
   "cell_type": "code",
   "execution_count": 7,
   "metadata": {},
   "outputs": [
    {
     "name": "stdout",
     "output_type": "stream",
     "text": [
      "Importing Jupyter notebook from WordCloud.ipynb\n",
      "Importing Jupyter notebook from MachineLearningProblem.ipynb\n"
     ]
    }
   ],
   "source": [
    "#Importing the libraries for the widget\n",
    "from ipywidgets import interact, widgets\n",
    "from IPython.display import display, clear_output\n",
    "\n",
    "#Importing DataOperations ipython notebook\n",
    "import nbimporter\n",
    "import DataOperations\n",
    "import OperationsOnText\n",
    "import WordCloud\n",
    "import MachineLearningProblem"
   ]
  },
  {
   "cell_type": "code",
   "execution_count": 13,
   "metadata": {},
   "outputs": [],
   "source": [
    "def on_change(change):\n",
    "    if change['type'] == 'change' and change['name'] == 'value':\n",
    "        clear_output()\n",
    "        thisValue = change['new']\n",
    "        businessValDict = {\n",
    "        'Business 1' : \"5LNZ67Yw9RD6nf4_UhXOjw\",\n",
    "             'Business 2' : \"P7pxQFqr7yBKMMI2J51udw\",\n",
    "             'Business 3' : \"frCxZS7lPhEnQRJ3UY6m7A\",\n",
    "             'Business 4' :\"JAmQCmczUclNUfZjkNdjQA\" ,\n",
    "             'Business 5' : \"4GXII-GU7S0ZyU6ElkhscQ\",\n",
    "            'Business 6' :\"aLlREPOEtt3JzeDCagHytA\",\n",
    "            'Business 7' :\"PgJgpW4TKQ8IoALH2Yq-zA\" ,\n",
    "            'Business 8' : \"d4qwVw4PcN-_2mK2o1Ro1g\" ,\n",
    "            'Business 9' :\"dKdApYVFDSNYsNOso6NYlA\" ,\n",
    "            'Business 10' : \"J4CATH00YZrq8Bne2S4_cw\" \n",
    "        }\n",
    "        \n",
    "        \n",
    "        print(\"You have selected\",thisValue)\n",
    "        reviews = DataOperations.readData()\n",
    "        allTexts,allStars = DataOperations.getTextsAndStars(reviews)\n",
    "        clean_reviews = []\n",
    "        texts,stars,dates = DataOperations.getReviewsAndStarsForBusinesses(reviews,allTexts,allStars,businessValDict[thisValue])\n",
    "        DataOperations.statisticalAnalysis(stars,dates)\n",
    "        \n",
    "        \n",
    "        clean_reviews = DataOperations.clean_Reviews(texts)\n",
    "        top_words = OperationsOnText.getTopWordsForAllReviews(clean_reviews)\n",
    "        reviewAndSentiment = OperationsOnText.getSentimentOfAReview(clean_reviews)\n",
    "        previews, nreviews = OperationsOnText.getPositiveAndNegativeReviews(reviewAndSentiment)\n",
    "        pos_word_list, neu_word_list, neg_word_list = OperationsOnText.getPositiveNegativeWordList(clean_reviews)\n",
    "        \n",
    "        if len(top_words) != 0:\n",
    "            print(\"Generating a word cloud for all the reviews\")\n",
    "            WordCloud.wordcloud_draw(str(top_words),'white')\n",
    "        if len(pos_word_list) != 0:\n",
    "            print(\"Generating the positive words' word cloud\")\n",
    "            WordCloud.wordcloud_draw(str(pos_word_list),'white')\n",
    "#         if len(neg_word_list) != 0:\n",
    "#             print(\"Generating the negative words' word cloud\")\n",
    "#             WordCloud.wordcloud_draw(str(neg_word_list),'white')\n",
    "\n",
    "def start():   \n",
    "    w = widgets.Dropdown(          \n",
    "    options=['--Select--','Business 1', 'Business 2', 'Business 3', 'Business 4', 'Business 5', 'Business 6', 'Business 7', 'Business 8', 'Business 9', 'Business 10' ],\n",
    "    value='--Select--',\n",
    "    description='Business Name',)\n",
    "    w.observe(on_change)\n",
    "    display(w)\n",
    "    \n",
    "def MLProblem():   \n",
    "    w1 = widgets.Dropdown(          \n",
    "    options=['--Select--','Eric', 'Kevin', 'Gary', 'Nike', 'Shane'],\n",
    "    value='--Select--',\n",
    "    description='User Name',)\n",
    "    w1.observe(on_change_ML)\n",
    "    display(w1)\n",
    "    #MachineLearningProblem.allOperations()\n",
    "    \n",
    "def on_change_ML(change):\n",
    "    if change['type'] == 'change' and change['name'] == 'value':\n",
    "        clear_output()\n",
    "        thisValue = change['new']\n",
    "        UserValDict = {\n",
    "        'Eric' : \"CxDOIDnH8gp9KXzpBHJYXw\",\n",
    "             'Kevin' : \"bLbSNkLggFnqwNNzzq-Ijw\",\n",
    "             'Gary' : \"PKEzKWv_FktMm2mGPjwd0Q\",\n",
    "             'Nike' :\"hWDybu_KvYLSdEFzGrniTw\" ,\n",
    "             'Shane' : \"QJI9OSEn6ujRCtrX06vs1w\"\n",
    "        }\n",
    "        print(\"You have selected to build a user-specific model for\",thisValue)\n",
    "        MachineLearningProblem.allOperations(UserValDict[thisValue])"
   ]
  },
  {
   "cell_type": "code",
   "execution_count": null,
   "metadata": {},
   "outputs": [],
   "source": []
  },
  {
   "cell_type": "code",
   "execution_count": null,
   "metadata": {
    "collapsed": true
   },
   "outputs": [],
   "source": []
  }
 ],
 "metadata": {
  "kernelspec": {
   "display_name": "Python 3",
   "language": "python",
   "name": "python3"
  },
  "language_info": {
   "codemirror_mode": {
    "name": "ipython",
    "version": 3
   },
   "file_extension": ".py",
   "mimetype": "text/x-python",
   "name": "python",
   "nbconvert_exporter": "python",
   "pygments_lexer": "ipython3",
   "version": "3.6.1"
  }
 },
 "nbformat": 4,
 "nbformat_minor": 2
}
